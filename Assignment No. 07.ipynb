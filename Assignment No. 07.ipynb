{
 "cells": [
  {
   "cell_type": "markdown",
   "id": "680aee84",
   "metadata": {},
   "source": [
    "## Assignment No. 07"
   ]
  },
  {
   "cell_type": "markdown",
   "id": "1c3b20d5",
   "metadata": {},
   "source": [
    "### Q1. What is the purpose of the try statement?"
   ]
  },
  {
   "cell_type": "markdown",
   "id": "1be1f439",
   "metadata": {},
   "source": [
    "Ans: try statement is used for exception handling in python. It consists of a block of risky statements which might cause an exception during runtime. If code within try block raises exception, then the exception will be reverted to the corresponding except block when multiple except blocks are present, else it will be reverted to the default except block. In short, try and except in union avoid programs from crashing during runtime due to exceptions."
   ]
  },
  {
   "cell_type": "code",
   "execution_count": 1,
   "id": "be987770",
   "metadata": {},
   "outputs": [
    {
     "name": "stdout",
     "output_type": "stream",
     "text": [
      "Division by Zero is Not Possible\n"
     ]
    }
   ],
   "source": [
    "try:\n",
    "    print(30/0)\n",
    "except ZeroDivisionError:\n",
    "    print('Division by Zero is Not Possible')"
   ]
  },
  {
   "cell_type": "markdown",
   "id": "93dc543b",
   "metadata": {},
   "source": [
    "### Q2. What are the two most popular try statement variations?"
   ]
  },
  {
   "cell_type": "markdown",
   "id": "2e2442b8",
   "metadata": {},
   "source": [
    "Ans: The Popular try statement variations are:\n",
    "\n",
    "1. **try,except**\n",
    "2. **try,except,finally**\n",
    "3. **try,except,finally,else**\n",
    "- The try block is used to check code for exceptions during runtime. i.e. code inside try block will execute completely when there is no error in the program where as the code inside except block will execute whenever the program encounters some error in the preceeding try block.\n",
    "\n",
    "Where as the code enters the else block if and only if the try clause does not raise an exception. The code in the finally block will execute irrespective of exception."
   ]
  },
  {
   "cell_type": "markdown",
   "id": "d645dd4a",
   "metadata": {},
   "source": [
    "### Q3. What is the purpose of the raise statement?"
   ]
  },
  {
   "cell_type": "markdown",
   "id": "76cc54c7",
   "metadata": {},
   "source": [
    "Ans: raise statement is used to trigger an exception explicitly, if a certain condition is not as per requirement of programmer. raise statement helps in triggering exception as per programming logic."
   ]
  },
  {
   "cell_type": "markdown",
   "id": "b984dea6",
   "metadata": {},
   "source": [
    "### Q4. What does the assert statement do, and what other statement is it like?"
   ]
  },
  {
   "cell_type": "markdown",
   "id": "51712b11",
   "metadata": {},
   "source": [
    "Ans: There are few assertions that programmer always want to be true to avoid code failure. This type of requirement is fulfilled by assert statement. This statement takes a boolean condition output of which is True which in turn helps Further Program Execute. If output of assert statement is False, it raises an Assertion Error."
   ]
  },
  {
   "cell_type": "code",
   "execution_count": 3,
   "id": "5524e0c1",
   "metadata": {},
   "outputs": [
    {
     "ename": "AssertionError",
     "evalue": "this is not a valid statement",
     "output_type": "error",
     "traceback": [
      "\u001b[1;31m---------------------------------------------------------------------------\u001b[0m",
      "\u001b[1;31mAssertionError\u001b[0m                            Traceback (most recent call last)",
      "Input \u001b[1;32mIn [3]\u001b[0m, in \u001b[0;36m<cell line: 1>\u001b[1;34m()\u001b[0m\n\u001b[1;32m----> 1\u001b[0m \u001b[38;5;28;01massert\u001b[39;00m(\u001b[38;5;241m2\u001b[39m \u001b[38;5;241m==\u001b[39m \u001b[38;5;241m10\u001b[39m), \u001b[38;5;124mf\u001b[39m\u001b[38;5;124m'\u001b[39m\u001b[38;5;124mthis is not a valid statement\u001b[39m\u001b[38;5;124m'\u001b[39m\n",
      "\u001b[1;31mAssertionError\u001b[0m: this is not a valid statement"
     ]
    }
   ],
   "source": [
    "assert(2 == 10), f'this is not a valid statement'"
   ]
  },
  {
   "cell_type": "markdown",
   "id": "6c395ab0",
   "metadata": {},
   "source": [
    "### Q5. What is the purpose of the with/as argument, and what other statement is it like?"
   ]
  },
  {
   "cell_type": "markdown",
   "id": "88e81fda",
   "metadata": {},
   "source": [
    "Ans: with/as statement simplifies use of file handling in python. When we use a with statement for file reading, there is no need for programmer to explicitly take care of activities like resource deallocation and file closing by using file.close() method. with statement itself ensures proper acquisition and release of resources. This avoids triggering of exceptions if the file closing is unknowingly forgotten in the code execution.\n",
    "\n",
    "with open('sample_file.txt','w') as file: file.write('Hello World')"
   ]
  }
 ],
 "metadata": {
  "kernelspec": {
   "display_name": "Python 3 (ipykernel)",
   "language": "python",
   "name": "python3"
  },
  "language_info": {
   "codemirror_mode": {
    "name": "ipython",
    "version": 3
   },
   "file_extension": ".py",
   "mimetype": "text/x-python",
   "name": "python",
   "nbconvert_exporter": "python",
   "pygments_lexer": "ipython3",
   "version": "3.9.12"
  }
 },
 "nbformat": 4,
 "nbformat_minor": 5
}
